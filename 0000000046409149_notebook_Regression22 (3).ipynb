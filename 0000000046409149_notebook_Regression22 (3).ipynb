{
 "cells": [
  {
   "cell_type": "code",
   "execution_count": 1,
   "id": "e39e02d4",
   "metadata": {},
   "outputs": [
    {
     "ename": "NameError",
     "evalue": "name 'sc_dm' is not defined",
     "output_type": "error",
     "traceback": [
      "\u001b[1;31m---------------------------------------------------------------------------\u001b[0m",
      "\u001b[1;31mNameError\u001b[0m                                 Traceback (most recent call last)",
      "Input \u001b[1;32mIn [1]\u001b[0m, in \u001b[0;36m<cell line: 43>\u001b[1;34m()\u001b[0m\n\u001b[0;32m     40\u001b[0m     \u001b[38;5;28mprint\u001b[39m(cost(x,new_m,y))\n\u001b[0;32m     41\u001b[0m     \u001b[38;5;28;01mreturn\u001b[39;00m new_m\n\u001b[1;32m---> 43\u001b[0m vv \u001b[38;5;241m=\u001b[39m \u001b[43mrun\u001b[49m\u001b[43m(\u001b[49m\u001b[43mx_train\u001b[49m\u001b[43m,\u001b[49m\u001b[43my_train\u001b[49m\u001b[43m)\u001b[49m\n\u001b[0;32m     45\u001b[0m data \u001b[38;5;241m=\u001b[39m np\u001b[38;5;241m.\u001b[39mgenfromtxt(\u001b[38;5;124m'\u001b[39m\u001b[38;5;124m0000000000002417_test_boston_x_test(1).csv\u001b[39m\u001b[38;5;124m'\u001b[39m,delimiter \u001b[38;5;241m=\u001b[39m \u001b[38;5;124m'\u001b[39m\u001b[38;5;124m,\u001b[39m\u001b[38;5;124m'\u001b[39m)\n\u001b[0;32m     46\u001b[0m pp \u001b[38;5;241m=\u001b[39m np\u001b[38;5;241m.\u001b[39marray([[\u001b[38;5;241m1\u001b[39m] \u001b[38;5;28;01mfor\u001b[39;00m x \u001b[38;5;129;01min\u001b[39;00m data])\n",
      "Input \u001b[1;32mIn [1]\u001b[0m, in \u001b[0;36mrun\u001b[1;34m(x, y)\u001b[0m\n\u001b[0;32m     19\u001b[0m lr \u001b[38;5;241m=\u001b[39m \u001b[38;5;241m0.16\u001b[39m\n\u001b[0;32m     20\u001b[0m iterations \u001b[38;5;241m=\u001b[39m \u001b[38;5;241m600\u001b[39m\n\u001b[1;32m---> 21\u001b[0m m  \u001b[38;5;241m=\u001b[39m \u001b[43mgd\u001b[49m\u001b[43m(\u001b[49m\u001b[43mx\u001b[49m\u001b[43m,\u001b[49m\u001b[43my\u001b[49m\u001b[43m,\u001b[49m\u001b[43mlr\u001b[49m\u001b[43m,\u001b[49m\u001b[43m \u001b[49m\u001b[43miterations\u001b[49m\u001b[43m)\u001b[49m\n\u001b[0;32m     22\u001b[0m \u001b[38;5;28;01mreturn\u001b[39;00m (m)\n",
      "Input \u001b[1;32mIn [1]\u001b[0m, in \u001b[0;36mgd\u001b[1;34m(x, y, lr, it)\u001b[0m\n\u001b[0;32m     27\u001b[0m m \u001b[38;5;241m=\u001b[39m np\u001b[38;5;241m.\u001b[39marray([\u001b[38;5;241m0\u001b[39m \u001b[38;5;28;01mfor\u001b[39;00m i \u001b[38;5;129;01min\u001b[39;00m \u001b[38;5;28mrange\u001b[39m(\u001b[38;5;241m14\u001b[39m)])\n\u001b[0;32m     28\u001b[0m \u001b[38;5;28;01mfor\u001b[39;00m i \u001b[38;5;129;01min\u001b[39;00m \u001b[38;5;28mrange\u001b[39m(it):\n\u001b[1;32m---> 29\u001b[0m     m \u001b[38;5;241m=\u001b[39m \u001b[43mstep_gd\u001b[49m\u001b[43m(\u001b[49m\u001b[43mx\u001b[49m\u001b[43m,\u001b[49m\u001b[43m \u001b[49m\u001b[43my\u001b[49m\u001b[43m,\u001b[49m\u001b[43m \u001b[49m\u001b[43mm\u001b[49m\u001b[43m \u001b[49m\u001b[43m,\u001b[49m\u001b[43m \u001b[49m\u001b[43mlr\u001b[49m\u001b[43m)\u001b[49m\n\u001b[0;32m     30\u001b[0m \u001b[38;5;28;01mreturn\u001b[39;00m m\n",
      "Input \u001b[1;32mIn [1]\u001b[0m, in \u001b[0;36mstep_gd\u001b[1;34m(x, y, m, lr)\u001b[0m\n\u001b[0;32m     36\u001b[0m     dc_dm \u001b[38;5;241m=\u001b[39m (m\u001b[38;5;241m*\u001b[39mx[i])\u001b[38;5;241m.\u001b[39msum()\n\u001b[0;32m     37\u001b[0m     \u001b[38;5;28;01mfor\u001b[39;00m a \u001b[38;5;129;01min\u001b[39;00m \u001b[38;5;28mrange\u001b[39m(\u001b[38;5;241m14\u001b[39m):            \n\u001b[1;32m---> 38\u001b[0m         m_slope[a] \u001b[38;5;241m+\u001b[39m\u001b[38;5;241m=\u001b[39m (\u001b[38;5;241m-\u001b[39m\u001b[38;5;241m2\u001b[39m\u001b[38;5;241m/\u001b[39mn)\u001b[38;5;241m*\u001b[39m(y[i]\u001b[38;5;241m-\u001b[39m(\u001b[43msc_dm\u001b[49m))\u001b[38;5;241m*\u001b[39mx[i][a]\n\u001b[0;32m     39\u001b[0m new_m \u001b[38;5;241m=\u001b[39m m \u001b[38;5;241m-\u001b[39m (lr\u001b[38;5;241m*\u001b[39mnp\u001b[38;5;241m.\u001b[39marray(m_slope))\n\u001b[0;32m     40\u001b[0m \u001b[38;5;28mprint\u001b[39m(cost(x,new_m,y))\n",
      "\u001b[1;31mNameError\u001b[0m: name 'sc_dm' is not defined"
     ]
    }
   ],
   "source": [
    "import numpy as np\n",
    "from sklearn.preprocessing import StandardScaler\n",
    "\n",
    "data = np.genfromtxt('training_boston_x_y_train(1).csv',delimiter = ',')\n",
    "x_train = data[:,0:13]\n",
    "y_train = data[:,13]\n",
    "\n",
    "pp = np.array([[1] for x in data])\n",
    "x_train = np.append(x_train,pp,axis = 1)\n",
    "\n",
    "def cost(x,new_m,y):\n",
    "    total_cost = 0\n",
    "    for i in range(379):\n",
    "        total_cost += (1/379)*((x[i]*new_m).sum()- y[i])**2\n",
    "    return total_cost\n",
    "\n",
    "\n",
    "def run(x , y):\n",
    "    lr = 0.16\n",
    "    iterations = 600\n",
    "    m  = gd(x,y,lr, iterations)\n",
    "    return (m)\n",
    "    \n",
    "    \n",
    "def gd(x,y,lr,it):\n",
    "    \n",
    "    m = np.array([0 for i in range(14)])\n",
    "    for i in range(it):\n",
    "        m = step_gd(x, y, m , lr)\n",
    "    return m\n",
    "         \n",
    "def step_gd(x, y, m, lr):\n",
    "    m_slope = [0 for i in range(len(m))]\n",
    "    n = len(x)\n",
    "    for i in range(n):\n",
    "        dc_dm = (m*x[i]).sum()\n",
    "        for a in range(14):            \n",
    "            m_slope[a] += (-2/n)*(y[i]-(sc_dm))*x[i][a]\n",
    "    new_m = m - (lr*np.array(m_slope))\n",
    "    print(cost(x,new_m,y))\n",
    "    return new_m\n",
    "\n",
    "vv = run(x_train,y_train)\n",
    "\n",
    "data = np.genfromtxt('0000000000002417_test_boston_x_test(1).csv',delimiter = ',')\n",
    "pp = np.array([[1] for x in data])\n",
    "data = np.append(data,pp,axis = 1)\n",
    "y_pred = []\n",
    "for x in range(len(data)):\n",
    "    a = data[x]*vv\n",
    "    y_pred.append(a.sum())\n",
    "y_pred = np.array(y_pred)\n",
    "print(y_pred)\n",
    "\n",
    "np.savetxt('yprediction.csv', y_pred, fmt = '%f')"
   ]
  },
  {
   "cell_type": "code",
   "execution_count": null,
   "id": "b7430fec",
   "metadata": {},
   "outputs": [],
   "source": []
  }
 ],
 "metadata": {
  "kernelspec": {
   "display_name": "Python 3 (ipykernel)",
   "language": "python",
   "name": "python3"
  },
  "language_info": {
   "codemirror_mode": {
    "name": "ipython",
    "version": 3
   },
   "file_extension": ".py",
   "mimetype": "text/x-python",
   "name": "python",
   "nbconvert_exporter": "python",
   "pygments_lexer": "ipython3",
   "version": "3.10.5"
  }
 },
 "nbformat": 4,
 "nbformat_minor": 5
}
